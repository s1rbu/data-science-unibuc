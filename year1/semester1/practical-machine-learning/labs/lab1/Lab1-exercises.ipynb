{
 "cells": [
  {
   "cell_type": "markdown",
   "metadata": {},
   "source": [
    "# Practical Machine Learning                                                                             \n",
    "# Lab 1"
   ]
  },
  {
   "cell_type": "markdown",
   "metadata": {},
   "source": [
    "## Exercises"
   ]
  },
  {
   "cell_type": "markdown",
   "metadata": {},
   "source": [
    "### 1.[Here](https://github.com//practical-ML-fmi/ML/raw/master/Data/lab1/images.zip), we have 8 images, read the images, flatten them, then store them in a numpy array. Before storing the images divide them by 255.\n",
    "The numpy array should have the dimension equals to (8, 12288), in order to check the dimension use the $shape$ attribute."
   ]
  },
  {
   "metadata": {
    "ExecuteTime": {
     "end_time": "2025-10-06T16:25:36.512036Z",
     "start_time": "2025-10-06T16:25:36.507717Z"
    }
   },
   "cell_type": "code",
   "source": [
    "import numpy as np\n",
    "from PIL import Image\n",
    "import matplotlib.pyplot as plt\n",
    "import os, os.path"
   ],
   "outputs": [],
   "execution_count": 59
  },
  {
   "cell_type": "code",
   "metadata": {
    "collapsed": true,
    "ExecuteTime": {
     "end_time": "2025-10-06T16:25:38.464167Z",
     "start_time": "2025-10-06T16:25:38.449365Z"
    }
   },
   "source": [
    " # write your code here\n",
    "\n",
    "path = \"images\"\n",
    "images = []\n",
    "\n",
    "for filename in os.listdir(path):\n",
    "    img = Image.open(os.path.join(path, filename))\n",
    "    img = np.array(img).flatten()\n",
    "    img = np.divide(img, 255.0)\n",
    "\n",
    "    images.append(img)\n",
    "\n",
    "images = np.array(images)\n",
    "print(images.shape)"
   ],
   "outputs": [
    {
     "name": "stdout",
     "output_type": "stream",
     "text": [
      "(8, 12288)\n"
     ]
    }
   ],
   "execution_count": 60
  },
  {
   "cell_type": "markdown",
   "metadata": {},
   "source": [
    "### 2. Compute the mean of the images. "
   ]
  },
  {
   "cell_type": "code",
   "metadata": {
    "collapsed": true,
    "ExecuteTime": {
     "end_time": "2025-10-06T16:25:40.744740Z",
     "start_time": "2025-10-06T16:25:40.737090Z"
    }
   },
   "source": [
    "# write your code here\n",
    "\n",
    "images_mean = np.mean(images, axis=0)\n",
    "images_mean"
   ],
   "outputs": [
    {
     "data": {
      "text/plain": [
       "array([0.27254902, 0.34509804, 0.22745098, ..., 0.37696078, 0.40735294,\n",
       "       0.33676471], shape=(12288,))"
      ]
     },
     "execution_count": 61,
     "metadata": {},
     "output_type": "execute_result"
    }
   ],
   "execution_count": 61
  },
  {
   "cell_type": "markdown",
   "metadata": {},
   "source": [
    "### 3. Normalize the images by subtracting the mean from each image."
   ]
  },
  {
   "cell_type": "code",
   "metadata": {
    "collapsed": true,
    "ExecuteTime": {
     "end_time": "2025-10-06T16:25:42.767689Z",
     "start_time": "2025-10-06T16:25:42.761412Z"
    }
   },
   "source": [
    "# write your code here\n",
    "\n",
    "normalized_images = images - images_mean\n",
    "normalized_images.shape"
   ],
   "outputs": [
    {
     "data": {
      "text/plain": [
       "(8, 12288)"
      ]
     },
     "execution_count": 62,
     "metadata": {},
     "output_type": "execute_result"
    }
   ],
   "execution_count": 62
  },
  {
   "cell_type": "markdown",
   "metadata": {},
   "source": [
    "### 4. [Here](https://github.com//practical-ML-fmi/ML/raw/master/Data/lab1/weights.zip), we have the weights and the bias for a perceptron that classifies the images in 4 classes. Use the weights (use np.load(‘path’) to load the weights) and the images (after normalization) to compute (y_hat) the predictions of the perceptron.  \n",
    "  $$ y_{hat} = softmax(X * W + b) $$\n",
    "  $$ X - input, W - weights, b - bias $$\n",
    "  $$Softmax(z_i)=\\frac{e^{z_i}}{\\sum_{j=1}^{j=K} e^{z_j} }$$"
   ]
  },
  {
   "cell_type": "code",
   "metadata": {
    "collapsed": true,
    "ExecuteTime": {
     "end_time": "2025-10-06T16:25:56.907023Z",
     "start_time": "2025-10-06T16:25:56.896211Z"
    }
   },
   "source": [
    "# write your code here\n",
    "\n",
    "W = np.load(\"coefs.npy\")\n",
    "b = np.load(\"bias.npy\")\n",
    "\n",
    "scores = np.dot(normalized_images, W) + b\n",
    "# print(scores)\n",
    "# print(scores.shape)\n",
    "\n",
    "def softmax(zi):\n",
    "    exp_zi = np.exp(zi)\n",
    "    return exp_zi / np.sum(exp_zi, axis=1, keepdims=True)\n",
    "\n",
    "y_hat = softmax(scores)\n",
    "# y_hat.shape\n",
    "y_hat"
   ],
   "outputs": [
    {
     "data": {
      "text/plain": [
       "array([[1.62527156e-58, 1.00000000e+00, 5.11526898e-61, 3.54141615e-77],\n",
       "       [1.00000000e+00, 1.43609522e-54, 6.08127256e-56, 1.14689882e-49],\n",
       "       [1.10512058e-85, 3.48890948e-82, 1.85461455e-92, 1.00000000e+00],\n",
       "       [5.21318772e-44, 1.35101464e-35, 1.00000000e+00, 3.16818876e-30],\n",
       "       [6.11043342e-33, 1.13796776e-67, 1.00000000e+00, 1.83963515e-58],\n",
       "       [1.00000000e+00, 2.21244739e-53, 8.81171439e-40, 2.95009117e-18],\n",
       "       [5.65077270e-62, 1.00000000e+00, 8.33899457e-63, 3.13481098e-67],\n",
       "       [6.49446016e-29, 5.02208009e-20, 1.00000000e+00, 5.34600951e-18]])"
      ]
     },
     "execution_count": 64,
     "metadata": {},
     "output_type": "execute_result"
    }
   ],
   "execution_count": 64
  },
  {
   "cell_type": "markdown",
   "metadata": {},
   "source": [
    "### 5. Let the ground-truth labels be y = [0, 0, 1, 1, 2,  2, 3,  3]. Compute the accuracy of the classifier (define a new function accuracy_score). \n",
    "$$Accuracy = \\frac{1}{n} \\sum_{i=1}^{j=n} y_{pred}^i == y_{true}^i$$"
   ]
  },
  {
   "cell_type": "code",
   "metadata": {
    "collapsed": true,
    "ExecuteTime": {
     "end_time": "2025-10-06T16:25:59.421210Z",
     "start_time": "2025-10-06T16:25:59.413730Z"
    }
   },
   "source": [
    "# write your code here\n",
    "\n",
    "y = [0, 0, 1, 1, 2, 2, 3, 3]\n",
    "\n",
    "def accuracy_score(y_truth, y_pred):\n",
    "    return np.mean(y_truth == y_pred)\n",
    "\n",
    "yp = np.argmax(y_hat, axis=1)\n",
    "acc_score = accuracy_score(y, yp)\n",
    "acc_score"
   ],
   "outputs": [
    {
     "data": {
      "text/plain": [
       "np.float64(0.25)"
      ]
     },
     "execution_count": 65,
     "metadata": {},
     "output_type": "execute_result"
    }
   ],
   "execution_count": 65
  },
  {
   "cell_type": "markdown",
   "metadata": {},
   "source": [
    "### 6. The labels of the classes are: (Cat - 0,  Dog - 1, Frog - 2,  Horse - 3), print the label for each prediction (use a dictionary). \n"
   ]
  },
  {
   "cell_type": "code",
   "metadata": {
    "collapsed": true,
    "ExecuteTime": {
     "end_time": "2025-10-06T16:26:01.425026Z",
     "start_time": "2025-10-06T16:26:01.419416Z"
    }
   },
   "source": [
    "# write your code here\n",
    "\n",
    "labels = {0: \"Cat\", 1: \"Dog\", 2: \"Frog\", 3: \"Horse\"}\n",
    "\n",
    "for pred in yp:\n",
    "    print(labels[pred])"
   ],
   "outputs": [
    {
     "name": "stdout",
     "output_type": "stream",
     "text": [
      "Dog\n",
      "Cat\n",
      "Horse\n",
      "Frog\n",
      "Frog\n",
      "Cat\n",
      "Dog\n",
      "Frog\n"
     ]
    }
   ],
   "execution_count": 66
  },
  {
   "cell_type": "markdown",
   "metadata": {},
   "source": [
    "### 7. Display the mean image (use imshow from Matplotlib).\n",
    "#### Don’t forget to multiply the image by 255, then convert the image to uint8."
   ]
  },
  {
   "cell_type": "code",
   "metadata": {
    "collapsed": true,
    "ExecuteTime": {
     "end_time": "2025-10-06T16:26:03.348490Z",
     "start_time": "2025-10-06T16:26:03.190824Z"
    }
   },
   "source": [
    "# write your code here\n",
    "\n",
    "mean_image = images_mean.reshape(64, 64, 3)\n",
    "mean_image = mean_image * 255\n",
    "\n",
    "plt.imshow(np.uint8(mean_image))\n",
    "plt.show()"
   ],
   "outputs": [
    {
     "data": {
      "text/plain": [
       "<Figure size 640x480 with 1 Axes>"
      ],
      "image/png": "[encoded data removed]"
     },
     "metadata": {},
     "output_type": "display_data",
     "jetTransient": {
      "display_id": null
     }
    }
   ],
   "execution_count": 67
  }
 ],
 "metadata": {
  "kernelspec": {
   "display_name": "Python 3",
   "language": "python",
   "name": "python3"
  },
  "language_info": {
   "codemirror_mode": {
    "name": "ipython",
    "version": 3
   },
   "file_extension": ".py",
   "mimetype": "text/x-python",
   "name": "python",
   "nbconvert_exporter": "python",
   "pygments_lexer": "ipython3",
   "version": "3.6.1"
  }
 },
 "nbformat": 4,
 "nbformat_minor": 2
}
