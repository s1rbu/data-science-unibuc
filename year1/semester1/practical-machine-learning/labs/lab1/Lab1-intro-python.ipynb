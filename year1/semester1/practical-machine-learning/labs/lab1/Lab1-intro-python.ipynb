{
 "cells": [
  {
   "cell_type": "markdown",
   "metadata": {},
   "source": [
    "\n",
    "# Practical Machine Learning                                                                             \n",
    "# Lab 1\n"
   ]
  },
  {
   "cell_type": "markdown",
   "metadata": {},
   "source": [
    "## Introduction to Python\n",
    "\n",
    "### Python\n",
    "    - uses new line to complete a command, as opposed to other programming languages which often use semicolons or parentheses.\n",
    "    - relies on indentation, using whitespace, to define scope; such as the scope of loops, functions and classes. Other programming languages often use curly-brackets for this purpose.  "
   ]
  },
  {
   "cell_type": "markdown",
   "metadata": {},
   "source": [
    "### Primitive data types: numbers, boolean, strings."
   ]
  },
  {
   "cell_type": "code",
   "metadata": {
    "ExecuteTime": {
     "end_time": "2025-10-04T20:45:09.554027Z",
     "start_time": "2025-10-04T20:45:09.549274Z"
    }
   },
   "source": [
    "# Numbers: int and float works as you would expect from other languages.\n",
    "x = 3\n",
    "print(type(x)) # Prints \"<class 'int'>\"\n",
    "print(x)       # Prints \"3\"\n",
    "print(x + 1)   # Addition; prints \"4\"\n",
    "print(x - 1)   # Subtraction; prints \"2\"\n",
    "print(x * 2)   # Multiplication; prints \"6\"\n",
    "print(x ** 2)  # Exponentiation; prints \"9\"\n",
    "x += 1\n",
    "print(x)  # Prints \"4\"\n",
    "x *= 2\n",
    "print(x)  # Prints \"8\"\n",
    "y = 2.5\n",
    "print(type(y)) # Prints \"<class 'float'>\"\n",
    "print(y, y + 1, y * 2, y ** 2) # Prints \"2.5 3.5 5.0 6.25\"\n",
    "\n",
    "# !!! Python does not have unary increment (x++) or decrement (x--) operators."
   ],
   "outputs": [
    {
     "name": "stdout",
     "output_type": "stream",
     "text": [
      "<class 'int'>\n",
      "3\n",
      "4\n",
      "2\n",
      "6\n",
      "9\n",
      "4\n",
      "8\n",
      "<class 'float'>\n",
      "2.5 3.5 5.0 6.25\n"
     ]
    }
   ],
   "execution_count": 1
  },
  {
   "cell_type": "code",
   "metadata": {
    "ExecuteTime": {
     "end_time": "2025-10-04T20:45:15.884302Z",
     "start_time": "2025-10-04T20:45:15.879509Z"
    }
   },
   "source": [
    "# Boolean: Python implements all of the usual operators for Boolean logic, \n",
    "# but uses English words rather than symbols.\n",
    "t = True\n",
    "f = False\n",
    "print(type(t)) # Prints \"<class 'bool'>\" \n",
    "print(t and f) # Logical AND; prints \"False\"\n",
    "print(t or f)  # Logical OR; prints \"True\"\n",
    "print(not t)   # Logical NOT; prints \"False\"\n",
    "print(t != f)  # Logical XOR; prints \"True\"\n"
   ],
   "outputs": [
    {
     "name": "stdout",
     "output_type": "stream",
     "text": [
      "<class 'bool'>\n",
      "False\n",
      "True\n",
      "False\n",
      "True\n"
     ]
    }
   ],
   "execution_count": 2
  },
  {
   "cell_type": "code",
   "metadata": {
    "ExecuteTime": {
     "end_time": "2025-10-04T20:45:17.680533Z",
     "start_time": "2025-10-04T20:45:17.674336Z"
    }
   },
   "source": [
    "# Strings: Python has great support for strings. \n",
    "\n",
    "hello = 'hello'    # String literals can use single quotes\n",
    "world = \"world\"    # or double quotes; it does not matter.\n",
    "print(hello)       # Prints \"hello\"\n",
    "print(len(hello))  # String length; prints \"5\"\n",
    "hw = hello + ' ' + world  # String concatenation\n",
    "print(hw)  # prints \"hello world\"\n",
    "hw12 = '%s %s %d' % (hello, world, 12)  # sprintf style \n",
    "                                        # string formatting\n",
    "print(hw12)  # prints \"hello world 12\"\n",
    "\n",
    "# String objects have a bunch of useful methods; for example:\n",
    "\n",
    "s = \"hello\"\n",
    "print(s.capitalize())  # Capitalize a string; \n",
    "                       # prints \"Hello\"\n",
    "print(s.upper())       # Convert a string to uppercase; \n",
    "                       # prints \"HELLO\"\n",
    "print(s.rjust(7))      # Right-justify a string, padding \n",
    "                       # with spaces; prints \"  hello\"\n",
    "print(s.center(7))     # Center a string, padding\n",
    "                       # with spaces; prints \" hello \"\n",
    "print(s.replace('l', '(ell)'))  #Replace all instances of one \n",
    "                                #substring  with another;\n",
    "                                #prints \"he(ell)(ell)o\"\n",
    "print('  world '.strip())  # Strip leading and trailing \n",
    "                           # whitespace; prints \"world\"\n"
   ],
   "outputs": [
    {
     "name": "stdout",
     "output_type": "stream",
     "text": [
      "hello\n",
      "5\n",
      "hello world\n",
      "hello world 12\n",
      "Hello\n",
      "HELLO\n",
      "  hello\n",
      " hello \n",
      "he(ell)(ell)o\n",
      "world\n"
     ]
    }
   ],
   "execution_count": 3
  },
  {
   "cell_type": "markdown",
   "metadata": {},
   "source": [
    "### Collections: lists, dictionaries, sets, tuples."
   ]
  },
  {
   "cell_type": "markdown",
   "metadata": {},
   "source": [
    "#### Lists"
   ]
  },
  {
   "cell_type": "code",
   "metadata": {
    "ExecuteTime": {
     "end_time": "2025-10-04T20:45:20.441195Z",
     "start_time": "2025-10-04T20:45:20.435466Z"
    }
   },
   "source": [
    "# Lists:  a list is the Python equivalent of an array,\n",
    "# but is resizeable and can contain elements of different types:\n",
    "\n",
    "xs = [3, 1, 2]    # Create a list\n",
    "print(xs, xs[2])  # Prints \"[3, 1, 2] 2\"\n",
    "print(xs[-1])     # Negative indices \n",
    "                  # count from the end \n",
    "                  # of the list; \n",
    "                  # prints \"2\"\n",
    "xs[2] = 'foo'     # Lists can contain elements \n",
    "                  # of different types\n",
    "print(xs)         # Prints \"[3, 1, 'foo']\"\n",
    "xs.append('bar')  # Add a new element to\n",
    "                  # the end of the list\n",
    "print(xs)         # Prints \"[3, 1, 'foo', 'bar']\"\n",
    "x = xs.pop()      # Remove and return the \n",
    "                  # last element of the list'\n",
    "y = xs.pop(-1)    # Remove and return the \n",
    "                  # i-th element of the list'\n",
    "print(x, xs, y)   # Prints \"foobar [3, 1, 'foo'] bar\"\n",
    " "
   ],
   "outputs": [
    {
     "name": "stdout",
     "output_type": "stream",
     "text": [
      "[3, 1, 2] 2\n",
      "2\n",
      "[3, 1, 'foo']\n",
      "[3, 1, 'foo', 'bar']\n",
      "bar [3, 1] foo\n"
     ]
    }
   ],
   "execution_count": 4
  },
  {
   "cell_type": "code",
   "metadata": {
    "ExecuteTime": {
     "end_time": "2025-10-04T20:45:22.116332Z",
     "start_time": "2025-10-04T20:45:22.110885Z"
    }
   },
   "source": [
    "# Slicing: In addition to accessing list elements one at a time, \n",
    "# Python provides concise syntax to access sublists; this is known as slicing:\n",
    "\n",
    "\n",
    "nums = list(range(5)) # range is a built-in function \n",
    "                      # that creates a list of integers\n",
    "print(nums)           # Prints \"[0, 1, 2, 3, 4]\"\n",
    "print(nums[2:4])      # Get a slice from index 2 to 4 \n",
    "                      # (exclusive); prints \"[2, 3]\"\n",
    "print(nums[2:])       # Get a slice from index 2 to the end;\n",
    "                      # prints \"[2, 3, 4]\"\n",
    "print(nums[:2])       # Get a slice from the start to\n",
    "                      # index 2 (exclusive); prints \"[0, 1]\"\n",
    "print(nums[:])        # Get a slice of the whole list;\n",
    "                      # prints \"[0, 1, 2, 3, 4]\"\n",
    "print(nums[:-1])      # Slice indices can be negative; \n",
    "                      # prints \"[0, 1, 2, 3]\"\n",
    "nums[2:4] = [8, 9]    # Assign a new sublist to a slice\n",
    "print(nums)           # Prints \"[0, 1, 8, 9, 4]\"\n",
    "\n",
    "numbers = list(range(5, 10)) # creates a list of integers\n",
    "                             # starting from 5 to 9 (inclusive)\n",
    "nums_reverse = numbers[::-1] # iterate through list from the last element\n",
    "                             # to the first one\n",
    "print(nums_reverse)          # prints \"[9, 8, 7, 6, 5]\""
   ],
   "outputs": [
    {
     "name": "stdout",
     "output_type": "stream",
     "text": [
      "[0, 1, 2, 3, 4]\n",
      "[2, 3]\n",
      "[2, 3, 4]\n",
      "[0, 1]\n",
      "[0, 1, 2, 3, 4]\n",
      "[0, 1, 2, 3]\n",
      "[0, 1, 8, 9, 4]\n",
      "[9, 8, 7, 6, 5]\n"
     ]
    }
   ],
   "execution_count": 5
  },
  {
   "cell_type": "code",
   "metadata": {
    "ExecuteTime": {
     "end_time": "2025-10-04T20:45:23.825899Z",
     "start_time": "2025-10-04T20:45:23.822518Z"
    }
   },
   "source": [
    "# Loops: You can loop over the elements of a list like this:\n",
    "\n",
    "animals = ['cat', 'dog', 'monkey']\n",
    "for animal in animals:\n",
    "    print(animal)\n",
    "# Prints \"cat\", \"dog\", \"monkey\", each on its own line.\n"
   ],
   "outputs": [
    {
     "name": "stdout",
     "output_type": "stream",
     "text": [
      "cat\n",
      "dog\n",
      "monkey\n"
     ]
    }
   ],
   "execution_count": 6
  },
  {
   "cell_type": "code",
   "metadata": {
    "ExecuteTime": {
     "end_time": "2025-10-04T20:45:25.133166Z",
     "start_time": "2025-10-04T20:45:25.128960Z"
    }
   },
   "source": [
    "# If you want access to the index of each element within the body of a loop,\n",
    "# use the built-in enumerate function:\n",
    "\n",
    "animals = ['cat', 'dog', 'monkey']\n",
    "for idx, animal in enumerate(animals):\n",
    "    print('#%d: %s' % (idx + 1, animal))\n",
    "# Prints \"#1: cat\", \"#2: dog\", \"#3: monkey\", each on its own line"
   ],
   "outputs": [
    {
     "name": "stdout",
     "output_type": "stream",
     "text": [
      "#1: cat\n",
      "#2: dog\n",
      "#3: monkey\n"
     ]
    }
   ],
   "execution_count": 7
  },
  {
   "cell_type": "code",
   "metadata": {
    "ExecuteTime": {
     "end_time": "2025-10-04T20:45:26.319739Z",
     "start_time": "2025-10-04T20:45:26.315590Z"
    }
   },
   "source": [
    "# List comprehensions: When programming, frequently we want to transform one type\n",
    "# of data into another. As a simple example, consider the following code that \n",
    "# computes square numbers:\n",
    "nums = [0, 1, 2, 3, 4]\n",
    "squares = []\n",
    "for x in nums:\n",
    "    squares.append(x ** 2)\n",
    "print(squares)   # Prints [0, 1, 4, 9, 16]"
   ],
   "outputs": [
    {
     "name": "stdout",
     "output_type": "stream",
     "text": [
      "[0, 1, 4, 9, 16]\n"
     ]
    }
   ],
   "execution_count": 8
  },
  {
   "cell_type": "code",
   "metadata": {
    "ExecuteTime": {
     "end_time": "2025-10-04T20:45:27.391169Z",
     "start_time": "2025-10-04T20:45:27.386566Z"
    }
   },
   "source": [
    "# You can make this code simpler using a list comprehension:\n",
    "nums = [0, 1, 2, 3, 4]\n",
    "squares = [x ** 2 for x in nums]\n",
    "print(squares)   # Prints [0, 1, 4, 9, 16]"
   ],
   "outputs": [
    {
     "name": "stdout",
     "output_type": "stream",
     "text": [
      "[0, 1, 4, 9, 16]\n"
     ]
    }
   ],
   "execution_count": 9
  },
  {
   "cell_type": "code",
   "metadata": {
    "ExecuteTime": {
     "end_time": "2025-10-04T20:45:28.324587Z",
     "start_time": "2025-10-04T20:45:28.320353Z"
    }
   },
   "source": [
    "# List comprehensions can also contain conditions:\n",
    "nums = [0, 1, 2, 3, 4]\n",
    "even_squares = [x ** 2 for x in nums if x % 2 == 0]\n",
    "print(even_squares)  # Prints \"[0, 4, 16]\""
   ],
   "outputs": [
    {
     "name": "stdout",
     "output_type": "stream",
     "text": [
      "[0, 4, 16]\n"
     ]
    }
   ],
   "execution_count": 10
  },
  {
   "cell_type": "code",
   "metadata": {
    "ExecuteTime": {
     "end_time": "2025-10-04T20:45:29.128680Z",
     "start_time": "2025-10-04T20:45:29.124803Z"
    }
   },
   "source": [
    "# You can use  list comprehension to transform boolean variables in integer:\n",
    "bool_list = [True, False, True, True, False]\n",
    "num_list = [x * 1 for x in bool_list]\n",
    "print(num_list) # Prints [1, 0, 1, 1, 0]"
   ],
   "outputs": [
    {
     "name": "stdout",
     "output_type": "stream",
     "text": [
      "[1, 0, 1, 1, 0]\n"
     ]
    }
   ],
   "execution_count": 11
  },
  {
   "cell_type": "markdown",
   "metadata": {},
   "source": [
    "#### Dictionaries"
   ]
  },
  {
   "cell_type": "code",
   "metadata": {
    "ExecuteTime": {
     "end_time": "2025-10-04T20:45:30.588495Z",
     "start_time": "2025-10-04T20:45:30.584220Z"
    }
   },
   "source": [
    "# A dictionary stores (key, value) pairs, similar to a Map in Java.\n",
    "# You can use it like this:\n",
    " \n",
    "d = {'cat': 'cute', 'dog': 'furry'}  # Create a new \n",
    "                                     # dictionary with some data\n",
    "print(d['cat'])       # Get an entry from \n",
    "                      # a dictionary; prints \"cute\"\n",
    "print('cat' in d)     # Check if a dictionary \n",
    "                      # has a given key; prints \"True\"\n",
    "d['fish'] = 'water'   # Set an entry in a dictionary\n",
    "print(d['fish'])      # Prints \"water\"\n",
    "# print(d['monkey'])  # KeyError: 'monkey' not a key of d\n",
    "print(d.get('monkey', 'N/A'))  # Get an element with a default;\n",
    "                               # prints \"N/A\"\n",
    "print(d.get('fish', 'N/A'))    # Get an element with a default; \n",
    "                               # prints \"water\"\n",
    "del d['fish']         # Remove an element from a dictionary\n",
    "print(d.get('fish', 'N/A')) # \"fish\" is no longer a key; \n",
    "                            # prints \"N/A\"\n"
   ],
   "outputs": [
    {
     "name": "stdout",
     "output_type": "stream",
     "text": [
      "cute\n",
      "True\n",
      "water\n",
      "N/A\n",
      "water\n",
      "N/A\n"
     ]
    }
   ],
   "execution_count": 12
  },
  {
   "cell_type": "code",
   "metadata": {
    "ExecuteTime": {
     "end_time": "2025-10-04T20:45:32.500048Z",
     "start_time": "2025-10-04T20:45:32.496260Z"
    }
   },
   "source": [
    "# Loops through a dictionary:\n",
    "d = {'person': 2, 'cat': 4, 'spider': 8}\n",
    "for animal in d:\n",
    "    legs = d[animal]\n",
    "    print('A %s has %d legs' % (animal, legs))\n",
    "# Prints \"A person has 2 legs\", \"A cat has 4 legs\", \"A spider has 8 legs\""
   ],
   "outputs": [
    {
     "name": "stdout",
     "output_type": "stream",
     "text": [
      "A person has 2 legs\n",
      "A cat has 4 legs\n",
      "A spider has 8 legs\n"
     ]
    }
   ],
   "execution_count": 13
  },
  {
   "cell_type": "code",
   "metadata": {
    "ExecuteTime": {
     "end_time": "2025-10-04T20:45:33.802426Z",
     "start_time": "2025-10-04T20:45:33.797952Z"
    }
   },
   "source": [
    "# If you want access to keys and their corresponding values, use the items method:\n",
    "\n",
    "d = {'person': 2, 'cat': 4, 'spider': 8}\n",
    "for animal, legs in d.items():\n",
    "    print('A %s has %d legs' % (animal, legs))\n",
    "# Prints \"A person has 2 legs\", \"A cat has 4 legs\", \"A spider has 8 legs"
   ],
   "outputs": [
    {
     "name": "stdout",
     "output_type": "stream",
     "text": [
      "A person has 2 legs\n",
      "A cat has 4 legs\n",
      "A spider has 8 legs\n"
     ]
    }
   ],
   "execution_count": 14
  },
  {
   "cell_type": "markdown",
   "metadata": {},
   "source": [
    "#### Sets"
   ]
  },
  {
   "cell_type": "code",
   "metadata": {
    "ExecuteTime": {
     "end_time": "2025-10-04T20:45:37.870546Z",
     "start_time": "2025-10-04T20:45:37.861561Z"
    }
   },
   "source": [
    "# A set is an unordered collection of distinct elements. As a simple example, \n",
    "# consider the following: A set is an unordered collection of distinct elements.\n",
    "# As a simple example, consider the following:\n",
    "animals = {'cat', 'dog'}\n",
    "print('cat' in animals)   # Check if an element is in a set; prints \"True\"\n",
    "print('fish' in animals)  # prints \"False\"\n",
    "animals.add('fish')       # Add an element to a set\n",
    "print('fish' in animals)  # Prints \"True\"\n",
    "print(len(animals))       # Number of elements in a set; prints \"3\"\n",
    "animals.add('cat')        # Adding an element that is already in the set does nothing\n",
    "print(len(animals))       # Prints \"3\"\n",
    "animals.remove('cat')     # Remove an element from a set\n",
    "print(len(animals))       # Prints \"2\"\n",
    "\n",
    "# operations\n",
    "A = {1, 2, 3, 4, 5}\n",
    "B = {4, 5, 6, 7, 8}\n",
    "# union\n",
    "print(A | B) # Prints {1, 2, 3, 4, 5, 6, 7, 8}\n",
    "print(A.union(B))\n",
    "# intersection\n",
    "print(A & B) # Prints {4, 5}\n",
    "print(A.intersection(B))\n",
    "# difference\n",
    "print(A - B) # Prints {1, 2, 3}\n",
    "print(A.difference(B))\n",
    "# symmetric difference - the elements that are in union but not in intersection\n",
    "print(A ^ B) # Prints {1, 2, 3, 6, 7, 8}\n",
    "A.symmetric_difference(B) \n"
   ],
   "outputs": [
    {
     "name": "stdout",
     "output_type": "stream",
     "text": [
      "True\n",
      "False\n",
      "True\n",
      "3\n",
      "3\n",
      "2\n",
      "{1, 2, 3, 4, 5, 6, 7, 8}\n",
      "{1, 2, 3, 4, 5, 6, 7, 8}\n",
      "{4, 5}\n",
      "{4, 5}\n",
      "{1, 2, 3}\n",
      "{1, 2, 3}\n",
      "{1, 2, 3, 6, 7, 8}\n"
     ]
    },
    {
     "data": {
      "text/plain": [
       "{1, 2, 3, 6, 7, 8}"
      ]
     },
     "execution_count": 17,
     "metadata": {},
     "output_type": "execute_result"
    }
   ],
   "execution_count": 17
  },
  {
   "cell_type": "code",
   "metadata": {
    "ExecuteTime": {
     "end_time": "2025-10-04T20:45:40.261310Z",
     "start_time": "2025-10-04T20:45:40.257441Z"
    }
   },
   "source": [
    "# Iterating over a set has the same syntax as iterating over a list;\n",
    "# however since sets are unordered, you cannot make assumptions about \n",
    "# the order in which you visit the elements of the set:\n",
    "animals = {'cat', 'dog', 'fish'}\n",
    "for idx, animal in enumerate(animals):\n",
    "    print('#%d: %s' % (idx + 1, animal))\n",
    "# Prints \"#1: fish\", \"#2: dog\", \"#3: cat\""
   ],
   "outputs": [
    {
     "name": "stdout",
     "output_type": "stream",
     "text": [
      "#1: dog\n",
      "#2: fish\n",
      "#3: cat\n"
     ]
    }
   ],
   "execution_count": 18
  },
  {
   "cell_type": "code",
   "metadata": {
    "ExecuteTime": {
     "end_time": "2025-10-04T20:45:41.418423Z",
     "start_time": "2025-10-04T20:45:41.414056Z"
    }
   },
   "source": [
    "# Set comprehensions: Like lists and dictionaries, we can easily construct sets \n",
    "# using set comprehensions:\n",
    "from math import sqrt\n",
    "nums = {int(sqrt(x)) for x in range(30)}\n",
    "print(nums)  # Prints \"{0, 1, 2, 3, 4, 5}\" "
   ],
   "outputs": [
    {
     "name": "stdout",
     "output_type": "stream",
     "text": [
      "{0, 1, 2, 3, 4, 5}\n"
     ]
    }
   ],
   "execution_count": 19
  },
  {
   "cell_type": "markdown",
   "metadata": {},
   "source": [
    "#### Tuples"
   ]
  },
  {
   "cell_type": "code",
   "metadata": {
    "ExecuteTime": {
     "end_time": "2025-10-04T20:45:42.744523Z",
     "start_time": "2025-10-04T20:45:42.741102Z"
    }
   },
   "source": [
    "#  A tuple is an (immutable) ordered list of values. A tuple is in many ways similar to a list;\n",
    "# one of the most important differences is that tuples can be used as keys in dictionaries and as elements of sets,\n",
    "# while lists cannot. Here is a trivial example:\n",
    "\n",
    "d = {(x, x + 1): x for x in range(10)}  # Create a dictionary with tuple keys\n",
    "t = (5, 6)        # Create a tuple\n",
    "print(type(t))    # Prints \"<class 'tuple'>\"\n",
    "print(d[t])       # Prints \"5\"\n",
    "print(d[(1, 2)])  # Prints \"1\"\n"
   ],
   "outputs": [
    {
     "name": "stdout",
     "output_type": "stream",
     "text": [
      "<class 'tuple'>\n",
      "5\n",
      "1\n"
     ]
    }
   ],
   "execution_count": 20
  },
  {
   "cell_type": "markdown",
   "metadata": {},
   "source": [
    "### Functions\n",
    "Python functions are defined using the def keyword."
   ]
  },
  {
   "cell_type": "code",
   "metadata": {
    "ExecuteTime": {
     "end_time": "2025-10-04T20:45:44.217254Z",
     "start_time": "2025-10-04T20:45:44.213748Z"
    }
   },
   "source": [
    "def sign(x):\n",
    "    if x > 0:\n",
    "        return 'positive'\n",
    "    elif x < 0:\n",
    "        return 'negative'\n",
    "    else:\n",
    "        return 'zero'\n",
    "\n",
    "for x in [-1, 0, 1]:\n",
    "    print(sign(x))\n",
    "# Prints \"negative\", \"zero\", \"positive\""
   ],
   "outputs": [
    {
     "name": "stdout",
     "output_type": "stream",
     "text": [
      "negative\n",
      "zero\n",
      "positive\n"
     ]
    }
   ],
   "execution_count": 21
  },
  {
   "cell_type": "code",
   "metadata": {
    "ExecuteTime": {
     "end_time": "2025-10-04T20:45:51.554760Z",
     "start_time": "2025-10-04T20:45:51.549906Z"
    }
   },
   "source": [
    "# We will often define functions to take optional keyword arguments, like this:\n",
    "def hello(name, loud=False):\n",
    "    if loud:\n",
    "        print('HELLO, %s!' % name.upper())\n",
    "    else:\n",
    "        print('Hello, %s' % name)\n",
    "\n",
    "hello('Bob') # Prints \"Hello, Bob\"\n",
    "hello('Fred', loud=True)  # Prints \"HELLO, FRED!\""
   ],
   "outputs": [
    {
     "name": "stdout",
     "output_type": "stream",
     "text": [
      "Hello, Bob\n",
      "HELLO, FRED!\n"
     ]
    }
   ],
   "execution_count": 22
  },
  {
   "cell_type": "code",
   "metadata": {
    "ExecuteTime": {
     "end_time": "2025-10-04T20:45:52.962828Z",
     "start_time": "2025-10-04T20:45:52.957448Z"
    }
   },
   "source": [
    "# We will define a function that takes 2 lists and returns True if the length of the lists is different\n",
    "# and the minimum element of the first list is not in the second list \n",
    "# or the minimum element of the second list is in the first list, \n",
    "# otherwise it returns False.\n",
    "def my_function(first_list, second_list):\n",
    "    if(len(first_list) == 0 or len(second_list) == 0):\n",
    "        raise ValueError('Lists must not be empty!')\n",
    "\n",
    "    min_first = min(first_list)\n",
    "    min_second = min(second_list)\n",
    "    if (min_first not in second_list or min_second in first_list) and len(first_list) != len(second_list):\n",
    "        return True\n",
    "    else:\n",
    "        return False\n",
    "\n",
    "first_list = [1, 2, 3, 4]\n",
    "second_list = [0, 1, 3]\n",
    "print(my_function(first_list, second_list)) # Prints False\n",
    "first_list = [-1, 1, 2, 3, 4]\n",
    "second_list = [0, 1, 3]\n",
    "print(my_function(first_list, second_list)) # Prints True\n",
    "first_list = [1, 2, 3, 4]\n",
    "second_list = [0, 1, 3, 9]\n",
    "print(my_function(first_list, second_list)) # Prints False\n",
    "first_list = [1, 2, 3, 4]\n",
    "second_list = []\n",
    "# print(my_function(first_list, second_list)) # ValueError: Lists must not be empty!"
   ],
   "outputs": [
    {
     "name": "stdout",
     "output_type": "stream",
     "text": [
      "False\n",
      "True\n",
      "False\n"
     ]
    }
   ],
   "execution_count": 23
  },
  {
   "cell_type": "markdown",
   "metadata": {},
   "source": [
    "### Classes "
   ]
  },
  {
   "cell_type": "code",
   "metadata": {
    "collapsed": true,
    "ExecuteTime": {
     "end_time": "2025-10-04T20:45:55.855977Z",
     "start_time": "2025-10-04T20:45:55.850355Z"
    }
   },
   "source": [
    "# The syntax for defining classes in Python is straightforward:\n",
    "\n",
    "class Greeter:\n",
    "\n",
    "    # Constructor\n",
    "    def __init__(self, name):\n",
    "        self.name = name  # Create an instance variable\n",
    "\n",
    "    # Instance method\n",
    "    def greet(self, loud=False):\n",
    "        if loud:\n",
    "            print('HELLO, %s!' % self.name.upper())\n",
    "        else:\n",
    "            print('Hello, %s' % self.name)\n",
    "\n",
    "g = Greeter('Fred')  # Construct an instance of the Greeter class\n",
    "g.greet()            # Call an instance method; prints \"Hello, Fred\"\n",
    "g.greet(loud=True)   # Call an instance method; prints \"HELLO, FRED!\""
   ],
   "outputs": [
    {
     "name": "stdout",
     "output_type": "stream",
     "text": [
      "Hello, Fred\n",
      "HELLO, FRED!\n"
     ]
    }
   ],
   "execution_count": 24
  }
 ],
 "metadata": {
  "kernelspec": {
   "display_name": "Python 3",
   "language": "python",
   "name": "python3"
  },
  "language_info": {
   "codemirror_mode": {
    "name": "ipython",
    "version": 3
   },
   "file_extension": ".py",
   "mimetype": "text/x-python",
   "name": "python",
   "nbconvert_exporter": "python",
   "pygments_lexer": "ipython3",
   "version": "3.6.1"
  }
 },
 "nbformat": 4,
 "nbformat_minor": 2
}
